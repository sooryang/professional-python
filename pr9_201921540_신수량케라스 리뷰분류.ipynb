{
 "cells": [
  {
   "cell_type": "markdown",
   "metadata": {},
   "source": [
    "# keras embedding을 이용한 문서 분류\n",
    "### 영화리뷰 데이터 대상"
   ]
  },
  {
   "cell_type": "code",
   "execution_count": 1,
   "metadata": {
    "scrolled": true
   },
   "outputs": [
    {
     "name": "stdout",
     "output_type": "stream",
     "text": [
      "Reviews count: 2000\n",
      "Length of the first review: 4043\n",
      "Labels: {'neg', 'pos'}\n"
     ]
    }
   ],
   "source": [
    "from nltk.corpus import movie_reviews\n",
    "fileids = movie_reviews.fileids() #movie review data에서 file id를 가져옴\n",
    "reviews = [movie_reviews.raw(fileid) for fileid in fileids] #file id를 이용해 raw text file을 가져옴\n",
    "categories = [movie_reviews.categories(fileid)[0] for fileid in fileids] \n",
    "#file id를 이용해 label로 사용할 category 즉 positive와 negative 정보를 순서대로 가져옴\n",
    "\n",
    "print('Reviews count:', len(reviews))\n",
    "print('Length of the first review:', len(reviews[0]))\n",
    "print('Labels:', set(categories))"
   ]
  },
  {
   "cell_type": "code",
   "execution_count": 3,
   "metadata": {},
   "outputs": [
    {
     "name": "stdout",
     "output_type": "stream",
     "text": [
      "Collecting keras\n",
      "  Downloading keras-2.7.0-py2.py3-none-any.whl (1.3 MB)\n",
      "Installing collected packages: keras\n",
      "Successfully installed keras-2.7.0\n"
     ]
    }
   ],
   "source": [
    "# !pip install keras"
   ]
  },
  {
   "cell_type": "code",
   "execution_count": 8,
   "metadata": {},
   "outputs": [
    {
     "name": "stdout",
     "output_type": "stream",
     "text": [
      "Collecting tensorflow\n",
      "  Downloading tensorflow-2.7.0-cp37-cp37m-win_amd64.whl (430.8 MB)\n",
      "Collecting astunparse>=1.6.0\n",
      "  Downloading astunparse-1.6.3-py2.py3-none-any.whl (12 kB)\n",
      "Requirement already satisfied: h5py>=2.9.0 in c:\\users\\user\\anaconda3\\lib\\site-packages (from tensorflow) (2.9.0)\n",
      "Collecting tensorflow-estimator<2.8,~=2.7.0rc0\n",
      "  Downloading tensorflow_estimator-2.7.0-py2.py3-none-any.whl (463 kB)\n",
      "Requirement already satisfied: six>=1.12.0 in c:\\users\\user\\anaconda3\\lib\\site-packages (from tensorflow) (1.12.0)\n",
      "Collecting absl-py>=0.4.0\n",
      "  Downloading absl_py-0.15.0-py3-none-any.whl (132 kB)\n",
      "Collecting google-pasta>=0.1.1\n",
      "  Downloading google_pasta-0.2.0-py3-none-any.whl (57 kB)\n",
      "Collecting keras-preprocessing>=1.1.1\n",
      "  Downloading Keras_Preprocessing-1.1.2-py2.py3-none-any.whl (42 kB)\n",
      "Collecting gast<0.5.0,>=0.2.1\n",
      "  Downloading gast-0.4.0-py3-none-any.whl (9.8 kB)\n",
      "Collecting opt-einsum>=2.3.2\n",
      "  Downloading opt_einsum-3.3.0-py3-none-any.whl (65 kB)\n",
      "Collecting flatbuffers<3.0,>=1.12\n",
      "  Downloading flatbuffers-2.0-py2.py3-none-any.whl (26 kB)\n",
      "Collecting termcolor>=1.1.0\n",
      "  Downloading termcolor-1.1.0.tar.gz (3.9 kB)\n",
      "  Preparing metadata (setup.py): started\n",
      "  Preparing metadata (setup.py): finished with status 'done'\n",
      "Collecting tensorflow-io-gcs-filesystem>=0.21.0\n",
      "  Downloading tensorflow_io_gcs_filesystem-0.21.0-cp37-cp37m-win_amd64.whl (1.5 MB)\n",
      "Requirement already satisfied: numpy>=1.14.5 in c:\\users\\user\\anaconda3\\lib\\site-packages (from tensorflow) (1.16.5)\n",
      "Collecting libclang>=9.0.1\n",
      "  Downloading libclang-12.0.0-py2.py3-none-win_amd64.whl (13.1 MB)\n",
      "Requirement already satisfied: wheel<1.0,>=0.32.0 in c:\\users\\user\\anaconda3\\lib\\site-packages (from tensorflow) (0.33.6)\n",
      "Requirement already satisfied: typing-extensions>=3.6.6 in c:\\users\\user\\anaconda3\\lib\\site-packages (from tensorflow) (3.10.0.2)\n",
      "Collecting tensorboard~=2.6\n",
      "  Downloading tensorboard-2.7.0-py3-none-any.whl (5.8 MB)\n",
      "Requirement already satisfied: keras<2.8,>=2.7.0rc0 in c:\\users\\user\\anaconda3\\lib\\site-packages (from tensorflow) (2.7.0)\n",
      "Requirement already satisfied: wrapt>=1.11.0 in c:\\users\\user\\anaconda3\\lib\\site-packages (from tensorflow) (1.11.2)\n",
      "Collecting protobuf>=3.9.2\n",
      "  Downloading protobuf-3.19.1-cp37-cp37m-win_amd64.whl (896 kB)\n",
      "Collecting grpcio<2.0,>=1.24.3\n",
      "  Downloading grpcio-1.41.1-cp37-cp37m-win_amd64.whl (3.1 MB)\n",
      "Requirement already satisfied: requests<3,>=2.21.0 in c:\\users\\user\\anaconda3\\lib\\site-packages (from tensorboard~=2.6->tensorflow) (2.22.0)\n",
      "Collecting markdown>=2.6.8\n",
      "  Downloading Markdown-3.3.4-py3-none-any.whl (97 kB)\n",
      "Requirement already satisfied: setuptools>=41.0.0 in c:\\users\\user\\anaconda3\\lib\\site-packages (from tensorboard~=2.6->tensorflow) (41.4.0)\n",
      "Collecting google-auth-oauthlib<0.5,>=0.4.1\n",
      "  Downloading google_auth_oauthlib-0.4.6-py2.py3-none-any.whl (18 kB)\n",
      "Collecting google-auth<3,>=1.6.3\n",
      "  Downloading google_auth-2.3.3-py2.py3-none-any.whl (155 kB)\n",
      "Collecting tensorboard-data-server<0.7.0,>=0.6.0\n",
      "  Downloading tensorboard_data_server-0.6.1-py3-none-any.whl (2.4 kB)\n",
      "Collecting tensorboard-plugin-wit>=1.6.0\n",
      "  Downloading tensorboard_plugin_wit-1.8.0-py3-none-any.whl (781 kB)\n",
      "Requirement already satisfied: werkzeug>=0.11.15 in c:\\users\\user\\anaconda3\\lib\\site-packages (from tensorboard~=2.6->tensorflow) (0.16.0)\n",
      "Collecting pyasn1-modules>=0.2.1\n",
      "  Downloading pyasn1_modules-0.2.8-py2.py3-none-any.whl (155 kB)\n",
      "Collecting rsa<5,>=3.1.4\n",
      "  Downloading rsa-4.7.2-py3-none-any.whl (34 kB)\n",
      "Collecting cachetools<5.0,>=2.0.0\n",
      "  Downloading cachetools-4.2.4-py3-none-any.whl (10 kB)\n",
      "Requirement already satisfied: requests-oauthlib>=0.7.0 in c:\\users\\user\\anaconda3\\lib\\site-packages (from google-auth-oauthlib<0.5,>=0.4.1->tensorboard~=2.6->tensorflow) (1.3.0)\n",
      "Requirement already satisfied: importlib-metadata in c:\\users\\user\\anaconda3\\lib\\site-packages (from markdown>=2.6.8->tensorboard~=2.6->tensorflow) (0.23)\n",
      "Requirement already satisfied: idna<2.9,>=2.5 in c:\\users\\user\\anaconda3\\lib\\site-packages (from requests<3,>=2.21.0->tensorboard~=2.6->tensorflow) (2.8)\n",
      "Requirement already satisfied: certifi>=2017.4.17 in c:\\users\\user\\anaconda3\\lib\\site-packages (from requests<3,>=2.21.0->tensorboard~=2.6->tensorflow) (2019.9.11)\n",
      "Requirement already satisfied: chardet<3.1.0,>=3.0.2 in c:\\users\\user\\anaconda3\\lib\\site-packages (from requests<3,>=2.21.0->tensorboard~=2.6->tensorflow) (3.0.4)\n",
      "Requirement already satisfied: urllib3!=1.25.0,!=1.25.1,<1.26,>=1.21.1 in c:\\users\\user\\anaconda3\\lib\\site-packages (from requests<3,>=2.21.0->tensorboard~=2.6->tensorflow) (1.24.2)\n",
      "Collecting pyasn1<0.5.0,>=0.4.6\n",
      "  Downloading pyasn1-0.4.8-py2.py3-none-any.whl (77 kB)\n",
      "Requirement already satisfied: oauthlib>=3.0.0 in c:\\users\\user\\anaconda3\\lib\\site-packages (from requests-oauthlib>=0.7.0->google-auth-oauthlib<0.5,>=0.4.1->tensorboard~=2.6->tensorflow) (3.1.1)\n",
      "Requirement already satisfied: zipp>=0.5 in c:\\users\\user\\anaconda3\\lib\\site-packages (from importlib-metadata->markdown>=2.6.8->tensorboard~=2.6->tensorflow) (0.6.0)\n",
      "Requirement already satisfied: more-itertools in c:\\users\\user\\anaconda3\\lib\\site-packages (from zipp>=0.5->importlib-metadata->markdown>=2.6.8->tensorboard~=2.6->tensorflow) (7.2.0)\n",
      "Building wheels for collected packages: termcolor\n",
      "  Building wheel for termcolor (setup.py): started\n",
      "  Building wheel for termcolor (setup.py): finished with status 'done'\n",
      "  Created wheel for termcolor: filename=termcolor-1.1.0-py3-none-any.whl size=4835 sha256=1450b13f18f95fd98f8bd7896ead1b723daed8a1f99e8780de9fba9fcaede589\n",
      "  Stored in directory: c:\\users\\user\\appdata\\local\\pip\\cache\\wheels\\3f\\e3\\ec\\8a8336ff196023622fbcb36de0c5a5c218cbb24111d1d4c7f2\n",
      "Successfully built termcolor\n",
      "Installing collected packages: pyasn1, rsa, pyasn1-modules, cachetools, google-auth, tensorboard-plugin-wit, tensorboard-data-server, protobuf, markdown, grpcio, google-auth-oauthlib, absl-py, termcolor, tensorflow-io-gcs-filesystem, tensorflow-estimator, tensorboard, opt-einsum, libclang, keras-preprocessing, google-pasta, gast, flatbuffers, astunparse, tensorflow\n",
      "Successfully installed absl-py-0.15.0 astunparse-1.6.3 cachetools-4.2.4 flatbuffers-2.0 gast-0.4.0 google-auth-2.3.3 google-auth-oauthlib-0.4.6 google-pasta-0.2.0 grpcio-1.41.1 keras-preprocessing-1.1.2 libclang-12.0.0 markdown-3.3.4 opt-einsum-3.3.0 protobuf-3.19.1 pyasn1-0.4.8 pyasn1-modules-0.2.8 rsa-4.7.2 tensorboard-2.7.0 tensorboard-data-server-0.6.1 tensorboard-plugin-wit-1.8.0 tensorflow-2.7.0 tensorflow-estimator-2.7.0 tensorflow-io-gcs-filesystem-0.21.0 termcolor-1.1.0\n"
     ]
    }
   ],
   "source": [
    "# !pip install tensorflow"
   ]
  },
  {
   "cell_type": "code",
   "execution_count": 9,
   "metadata": {},
   "outputs": [],
   "source": [
    "import keras"
   ]
  },
  {
   "cell_type": "code",
   "execution_count": 10,
   "metadata": {},
   "outputs": [
    {
     "name": "stdout",
     "output_type": "stream",
     "text": [
      "num of tokens: 43296\n"
     ]
    }
   ],
   "source": [
    "from keras.preprocessing.text import Tokenizer\n",
    "\n",
    "max_words = 10000\n",
    "\n",
    "tokenizer = Tokenizer(num_words=max_words)\n",
    "tokenizer.fit_on_texts(reviews)\n",
    "\n",
    "X = tokenizer.texts_to_sequences(reviews)\n",
    "# 일반적으로 0이면 unknown, 즉 전체단어의 수가 10000개 - num_words가 넘을 경우, index가 10000-1(for unknown)을 넘어가는 단어는 0으로 처리함\n",
    "#onehot_train = tokenizer.texts_to_matrix(X_train, mode='binary')\n",
    "\n",
    "print('num of tokens:', len(tokenizer.word_index))"
   ]
  },
  {
   "cell_type": "code",
   "execution_count": 11,
   "metadata": {},
   "outputs": [
    {
     "data": {
      "text/plain": [
       "(2000, 10000)"
      ]
     },
     "execution_count": 11,
     "metadata": {},
     "output_type": "execute_result"
    }
   ],
   "source": [
    "bow = tokenizer.texts_to_matrix(reviews, mode='binary')\n",
    "bow.shape"
   ]
  },
  {
   "cell_type": "code",
   "execution_count": 12,
   "metadata": {},
   "outputs": [
    {
     "name": "stdout",
     "output_type": "stream",
     "text": [
      "[  38    1  328   52   20  769   52   20   52   20    2    4  910  114\n",
      "   52   20 5277    4 1386  171    8  632    3   63    4    9    6  321\n",
      "   25 1957  143   18 2926  120  301  254    5 9489    2   15  150  143\n",
      "    3  102   16   44   35    9   91    6  256  103    1  164 2851  100\n",
      "    3  100  208   18   72  259    4 4077   42   82    2   94   45    6\n",
      "   14  247  954  353   37  613  294   14  133  801    5 3146   16    9\n",
      "  138    5  257    5 3146    9  308  313   64  369  493  226    3   75\n",
      "   36   86  171  439 2795   46   56 1747    7    1 5675   25   92    1\n",
      " 1280  204    6    8    1 4078    3   18  158 5676   19 1711   38   14\n",
      "   39   62  175 4079   63    4    9   40   21    1  268   84  212   39\n",
      "   35    4    1   82    8  197  442    5   86    2   98  251    4  261\n",
      "   16    9  137  248    1   86    1   15   35    8   43  439   18  618\n",
      "    1 1486  311   11  121   38   14    6    8   34  167  245   86  276\n",
      "    8    1  161    6   55    9   56  141   36   20  284    1  801    5\n",
      " 2016  169  145    4 2329   18  570  963 7840  426  221   28 3863   12\n",
      "   41 1430  226  457    1   26    6   50 1684 3592 1123   62   72    9\n",
      "   52   20  101 3024   33    3   62  120  118   27   36   20   75   62\n",
      "   92  437    5   83    9  100    3  100  208   96   41  665  132  316\n",
      "  114 3288 1044 2440   55   35    4    1  159  149    7    1   26  682\n",
      "    1  929  874   14   15  221   28   64  123    3    9   42  491    3\n",
      "    9  336   52 8856   69    2  271  875  948  301 6461   26    7  128\n",
      " 1102   16   18  618    1 2852 1325    8 1729    9   55    2  289  431\n",
      "   11   98 1326   68   86   43  261    1  209   20  271   61   12    1\n",
      "   63  204  187 2594   50  675    5   22  388    1 2109  164   74    8\n",
      "   17  197    7  258 1034   57    7    2  113 5278   16  106  954 5279\n",
      "  130   40    5   27 1543   33  181  457    1  339   15    3  175   32\n",
      "   34  621   33 1526  898    1   15  116 1993   85    9  116 2476   37\n",
      " 1471    9 1358    3    9  648  271 7098   12   63    4   64  400    2\n",
      "  271  690  324    3 1994    5   35    4    1    8  770  141    9  657\n",
      "    3   21    1   84   14    6   25    2  295   46  948 1649  731   37\n",
      "   50    5  177    8   84   85  371    6  682 6792    8    1  521    6\n",
      "  137 1132   11    1  440    9   71 3210  460   76  174  714    3   32\n",
      "   69 1487   19    1 7443  193  194 1045 2853    9 3980 4204  504   28\n",
      "    2 2214    4 7099 1003  640 1211  302 1446 1315  314 1211  302    1\n",
      " 2518 1853  302    1 2518 7100  749  302  341 4203  302  302 8855  302\n",
      "  302    1  485 1853  302 4341    4 3864 1022  302]\n"
     ]
    }
   ],
   "source": [
    "from keras import preprocessing\n",
    "\n",
    "maxlen = 500\n",
    "\n",
    "X = preprocessing.sequence.pad_sequences(X, maxlen=maxlen, truncating='pre')\n",
    "print(X[0])"
   ]
  },
  {
   "cell_type": "code",
   "execution_count": 13,
   "metadata": {},
   "outputs": [
    {
     "name": "stdout",
     "output_type": "stream",
     "text": [
      "[1, 1, 1, 1, 1, 1, 1, 1, 1, 1]\n"
     ]
    }
   ],
   "source": [
    "label_dict = {'pos':0, 'neg':1}\n",
    "y = [label_dict[c] for c in categories]\n",
    "print(y[:10])"
   ]
  },
  {
   "cell_type": "code",
   "execution_count": 14,
   "metadata": {},
   "outputs": [
    {
     "name": "stdout",
     "output_type": "stream",
     "text": [
      "Train set count: 1600\n",
      "Test set count: 400\n",
      "Test samples: [1, 0, 0, 1, 0, 0, 1, 1, 1, 1, 0, 0, 1, 1, 0, 1, 1, 0, 0, 0]\n"
     ]
    }
   ],
   "source": [
    "from sklearn.model_selection import train_test_split #sklearn에서 제공하는 split 함수를 사용\n",
    "X_train, X_test, y_train, y_test = train_test_split(X, y, test_size=0.2, random_state=10)\n",
    "# sklearn의 train_test_split 함수는 먼저 data set을 shuffle하고 주어진 비율에 따라 train set과 test set을 나눠 줌\n",
    "# 위에서는 reviews를 X_train과 X_test로 8:2의 비율로 나누고, categories를 y_train과 y_test로 나눔\n",
    "# 이 때 X와 y의 순서는 동일하게 유지해서 각 입력값과 label이 정확하게 match되도록 함\n",
    "# random_state는 shuffle에서의 seed 값으로, 지정한 경우 항상 동일한 결과로 shuffle이 됨\n",
    "\n",
    "print('Train set count:', len(X_train))\n",
    "print('Test set count:', len(X_test))\n",
    "print('Test samples:', y_test[:20])"
   ]
  },
  {
   "cell_type": "code",
   "execution_count": 26,
   "metadata": {},
   "outputs": [
    {
     "name": "stdout",
     "output_type": "stream",
     "text": [
      "Model: \"sequential_6\"\n",
      "_________________________________________________________________\n",
      " Layer (type)                Output Shape              Param #   \n",
      "=================================================================\n",
      " embedding_6 (Embedding)     (None, 500, 32)           320000    \n",
      "                                                                 \n",
      " flatten_6 (Flatten)         (None, 16000)             0         \n",
      "                                                                 \n",
      " dense_6 (Dense)             (None, 1)                 16001     \n",
      "                                                                 \n",
      "=================================================================\n",
      "Total params: 336,001\n",
      "Trainable params: 336,001\n",
      "Non-trainable params: 0\n",
      "_________________________________________________________________\n",
      "Epoch 1/30\n",
      "5/5 [==============================] - 1s 121ms/step - loss: 0.6207 - acc: 0.7086 - val_loss: 1.2664 - val_acc: 0.0000e+00\n",
      "Epoch 2/30\n",
      "5/5 [==============================] - 0s 44ms/step - loss: 0.5023 - acc: 0.7812 - val_loss: 1.5153 - val_acc: 0.0000e+00\n",
      "Epoch 3/30\n",
      "5/5 [==============================] - 0s 53ms/step - loss: 0.4679 - acc: 0.7812 - val_loss: 1.5353 - val_acc: 0.0000e+00\n",
      "Epoch 4/30\n",
      "5/5 [==============================] - 0s 45ms/step - loss: 0.4375 - acc: 0.7812 - val_loss: 1.5408 - val_acc: 0.0000e+00\n",
      "Epoch 5/30\n",
      "5/5 [==============================] - 0s 44ms/step - loss: 0.4048 - acc: 0.7812 - val_loss: 1.4944 - val_acc: 0.0000e+00\n",
      "Epoch 6/30\n",
      "5/5 [==============================] - 0s 47ms/step - loss: 0.3700 - acc: 0.7828 - val_loss: 1.5923 - val_acc: 0.0000e+00\n",
      "Epoch 7/30\n",
      "5/5 [==============================] - 0s 49ms/step - loss: 0.3337 - acc: 0.7883 - val_loss: 1.6652 - val_acc: 0.0000e+00\n",
      "Epoch 8/30\n",
      "5/5 [==============================] - 0s 48ms/step - loss: 0.2959 - acc: 0.8531 - val_loss: 1.7156 - val_acc: 0.0000e+00\n",
      "Epoch 9/30\n",
      "5/5 [==============================] - 0s 48ms/step - loss: 0.2581 - acc: 0.9102 - val_loss: 1.6457 - val_acc: 0.0000e+00\n",
      "Epoch 10/30\n",
      "5/5 [==============================] - 0s 40ms/step - loss: 0.2215 - acc: 0.9492 - val_loss: 1.6173 - val_acc: 0.0000e+00\n",
      "Epoch 11/30\n",
      "5/5 [==============================] - 0s 45ms/step - loss: 0.1886 - acc: 0.9750 - val_loss: 1.7094 - val_acc: 0.0000e+00\n",
      "Epoch 12/30\n",
      "5/5 [==============================] - 0s 45ms/step - loss: 0.1574 - acc: 0.9906 - val_loss: 1.8487 - val_acc: 0.0000e+00\n",
      "Epoch 13/30\n",
      "5/5 [==============================] - 0s 46ms/step - loss: 0.1325 - acc: 0.9922 - val_loss: 1.7988 - val_acc: 0.0000e+00\n",
      "Epoch 14/30\n",
      "5/5 [==============================] - 0s 43ms/step - loss: 0.1083 - acc: 0.9977 - val_loss: 2.0058 - val_acc: 0.0000e+00\n",
      "Epoch 15/30\n",
      "5/5 [==============================] - 0s 41ms/step - loss: 0.0891 - acc: 0.9992 - val_loss: 2.0381 - val_acc: 0.0000e+00\n",
      "Epoch 16/30\n",
      "5/5 [==============================] - 0s 41ms/step - loss: 0.0724 - acc: 0.9992 - val_loss: 2.1664 - val_acc: 0.0000e+00\n",
      "Epoch 17/30\n",
      "5/5 [==============================] - 0s 44ms/step - loss: 0.0591 - acc: 0.9992 - val_loss: 2.2471 - val_acc: 0.0000e+00\n",
      "Epoch 18/30\n",
      "5/5 [==============================] - 0s 52ms/step - loss: 0.0479 - acc: 0.9992 - val_loss: 2.3236 - val_acc: 0.0000e+00\n",
      "Epoch 19/30\n",
      "5/5 [==============================] - 0s 50ms/step - loss: 0.0388 - acc: 0.9992 - val_loss: 2.4180 - val_acc: 0.0000e+00\n",
      "Epoch 20/30\n",
      "5/5 [==============================] - 0s 40ms/step - loss: 0.0311 - acc: 0.9992 - val_loss: 2.5706 - val_acc: 0.0000e+00\n",
      "Epoch 21/30\n",
      "5/5 [==============================] - 0s 47ms/step - loss: 0.0256 - acc: 0.9984 - val_loss: 2.5909 - val_acc: 0.0000e+00\n",
      "Epoch 22/30\n",
      "5/5 [==============================] - 0s 45ms/step - loss: 0.0208 - acc: 0.9992 - val_loss: 2.7026 - val_acc: 0.0000e+00\n",
      "Epoch 23/30\n",
      "5/5 [==============================] - 0s 54ms/step - loss: 0.0172 - acc: 0.9992 - val_loss: 2.9263 - val_acc: 0.0000e+00\n",
      "Epoch 24/30\n",
      "5/5 [==============================] - 0s 40ms/step - loss: 0.0141 - acc: 0.9984 - val_loss: 3.0061 - val_acc: 0.0000e+00\n",
      "Epoch 25/30\n",
      "5/5 [==============================] - 0s 41ms/step - loss: 0.0111 - acc: 0.9992 - val_loss: 3.0940 - val_acc: 0.0000e+00\n",
      "Epoch 26/30\n",
      "5/5 [==============================] - 0s 44ms/step - loss: 0.0091 - acc: 0.9992 - val_loss: 3.2736 - val_acc: 0.0000e+00\n",
      "Epoch 27/30\n",
      "5/5 [==============================] - 0s 43ms/step - loss: 0.0086 - acc: 0.9992 - val_loss: 3.1241 - val_acc: 0.0000e+00\n",
      "Epoch 28/30\n",
      "5/5 [==============================] - 0s 45ms/step - loss: 0.0070 - acc: 0.9992 - val_loss: 3.4289 - val_acc: 0.0000e+00\n",
      "Epoch 29/30\n",
      "5/5 [==============================] - 0s 40ms/step - loss: 0.0065 - acc: 0.9984 - val_loss: 3.5942 - val_acc: 0.0000e+00\n",
      "Epoch 30/30\n",
      "5/5 [==============================] - 0s 44ms/step - loss: 0.0053 - acc: 0.9992 - val_loss: 3.4918 - val_acc: 0.0000e+00\n"
     ]
    }
   ],
   "source": [
    "from keras.models import Sequential\n",
    "from keras.layers import Flatten, Dense, Embedding\n",
    "\n",
    "model = Sequential()\n",
    "model.add(Embedding(max_words, 32, input_length=maxlen))\n",
    "model.add(Flatten())\n",
    "model.add(Dense(1, activation='sigmoid'))\n",
    "model.compile(optimizer='rmsprop', loss='binary_crossentropy', metrics=['acc'])\n",
    "model.summary()\n",
    "y_train = np.array(y)\n",
    "history = model.fit(X_train, y_train, \n",
    "                    epochs=30,\n",
    "                    batch_size=256,\n",
    "                    validation_split=0.2)"
   ]
  },
  {
   "cell_type": "code",
   "execution_count": 27,
   "metadata": {},
   "outputs": [
    {
     "data": {
      "image/png": "[encoded data removed]",
      "text/plain": [
       "<Figure size 432x288 with 1 Axes>"
      ]
     },
     "metadata": {
      "needs_background": "light"
     },
     "output_type": "display_data"
    }
   ],
   "source": [
    "%matplotlib inline\n",
    "import matplotlib.pyplot as plt\n",
    "\n",
    "history_dict = history.history\n",
    "loss = history_dict['loss']\n",
    "val_loss = history_dict['val_loss']\n",
    "\n",
    "epochs = range(1, len(loss) + 1)\n",
    "\n",
    "plt.plot(epochs, loss, 'bo', label='Training loss')\n",
    "plt.plot(epochs, val_loss, 'r', label='Validation loss')\n",
    "plt.title('Training and validation loss')\n",
    "plt.xlabel('Epochs')\n",
    "plt.ylabel('Loss')\n",
    "plt.legend()\n",
    "\n",
    "plt.show()"
   ]
  },
  {
   "cell_type": "code",
   "execution_count": 37,
   "metadata": {},
   "outputs": [
    {
     "name": "stdout",
     "output_type": "stream",
     "text": [
      "Model: \"sequential_7\"\n",
      "_________________________________________________________________\n",
      " Layer (type)                Output Shape              Param #   \n",
      "=================================================================\n",
      " embedding_7 (Embedding)     (None, None, 32)          320000    \n",
      "                                                                 \n",
      " lstm (LSTM)                 (None, 32)                8320      \n",
      "                                                                 \n",
      " dense_7 (Dense)             (None, 1)                 33        \n",
      "                                                                 \n",
      "=================================================================\n",
      "Total params: 328,353\n",
      "Trainable params: 328,353\n",
      "Non-trainable params: 0\n",
      "_________________________________________________________________\n"
     ]
    }
   ],
   "source": [
    "from keras.layers import SimpleRNN, LSTM\n",
    "\n",
    "model = Sequential()\n",
    "model.add(Embedding(max_words, 32))\n",
    "#model.add(SimpleRNN(32))\n",
    "model.add(LSTM(32))\n",
    "model.add(Dense(1, activation='sigmoid'))\n",
    "model.summary()"
   ]
  },
  {
   "cell_type": "code",
   "execution_count": 38,
   "metadata": {},
   "outputs": [
    {
     "name": "stdout",
     "output_type": "stream",
     "text": [
      "Epoch 1/30\n",
      "5/5 [==============================] - 8s 1s/step - loss: 0.6647 - acc: 0.7141 - val_loss: 0.8874 - val_acc: 0.0000e+00\n",
      "Epoch 2/30\n",
      "5/5 [==============================] - 4s 894ms/step - loss: 0.5623 - acc: 0.7812 - val_loss: 1.3695 - val_acc: 0.0000e+00\n",
      "Epoch 3/30\n",
      "5/5 [==============================] - 4s 896ms/step - loss: 0.5057 - acc: 0.7812 - val_loss: 1.5823 - val_acc: 0.0000e+00\n",
      "Epoch 4/30\n",
      "5/5 [==============================] - 4s 889ms/step - loss: 0.4833 - acc: 0.7812 - val_loss: 2.0315 - val_acc: 0.0000e+00\n",
      "Epoch 5/30\n",
      "5/5 [==============================] - 4s 895ms/step - loss: 0.4560 - acc: 0.7812 - val_loss: 1.5333 - val_acc: 0.0000e+00\n",
      "Epoch 6/30\n",
      "5/5 [==============================] - 5s 938ms/step - loss: 0.4595 - acc: 0.7812 - val_loss: 1.8596 - val_acc: 0.0000e+00\n",
      "Epoch 7/30\n",
      "5/5 [==============================] - 5s 933ms/step - loss: 0.4344 - acc: 0.7852 - val_loss: 1.4619 - val_acc: 0.0000e+00\n",
      "Epoch 8/30\n",
      "5/5 [==============================] - 5s 935ms/step - loss: 0.3813 - acc: 0.7820 - val_loss: 1.1441 - val_acc: 0.0031\n",
      "Epoch 9/30\n",
      "5/5 [==============================] - 5s 976ms/step - loss: 0.3680 - acc: 0.7906 - val_loss: 2.9735 - val_acc: 0.0000e+00\n",
      "Epoch 10/30\n",
      "5/5 [==============================] - 4s 913ms/step - loss: 0.3567 - acc: 0.8062 - val_loss: 1.9410 - val_acc: 0.0000e+00\n",
      "Epoch 11/30\n",
      "5/5 [==============================] - 4s 911ms/step - loss: 0.3067 - acc: 0.8188 - val_loss: 1.9240 - val_acc: 0.0000e+00\n",
      "Epoch 12/30\n",
      "5/5 [==============================] - 4s 905ms/step - loss: 0.3034 - acc: 0.8562 - val_loss: 2.6956 - val_acc: 0.0000e+00\n",
      "Epoch 13/30\n",
      "5/5 [==============================] - 4s 912ms/step - loss: 0.2492 - acc: 0.8656 - val_loss: 3.1970 - val_acc: 0.0000e+00\n",
      "Epoch 14/30\n",
      "5/5 [==============================] - 4s 898ms/step - loss: 0.2145 - acc: 0.8828 - val_loss: 1.3725 - val_acc: 0.0312\n",
      "Epoch 15/30\n",
      "5/5 [==============================] - 4s 902ms/step - loss: 0.2281 - acc: 0.9430 - val_loss: 3.5392 - val_acc: 0.0000e+00\n",
      "Epoch 16/30\n",
      "5/5 [==============================] - 5s 994ms/step - loss: 0.1970 - acc: 0.9438 - val_loss: 3.5163 - val_acc: 0.0000e+00\n",
      "Epoch 17/30\n",
      "5/5 [==============================] - 5s 1s/step - loss: 0.1542 - acc: 0.9672 - val_loss: 2.7384 - val_acc: 0.0156\n",
      "Epoch 18/30\n",
      "5/5 [==============================] - 5s 1s/step - loss: 0.2506 - acc: 0.9570 - val_loss: 2.0056 - val_acc: 0.0312\n",
      "Epoch 19/30\n",
      "5/5 [==============================] - 6s 1s/step - loss: 0.1405 - acc: 0.9836 - val_loss: 3.3759 - val_acc: 0.0063\n",
      "Epoch 20/30\n",
      "5/5 [==============================] - 6s 1s/step - loss: 0.1124 - acc: 0.9891 - val_loss: 2.7404 - val_acc: 0.0344\n",
      "Epoch 21/30\n",
      "5/5 [==============================] - 5s 1s/step - loss: 0.1005 - acc: 0.9969 - val_loss: 4.5348 - val_acc: 0.0125\n",
      "Epoch 22/30\n",
      "5/5 [==============================] - 6s 1s/step - loss: 0.1867 - acc: 0.9633 - val_loss: 2.0929 - val_acc: 0.0969\n",
      "Epoch 23/30\n",
      "5/5 [==============================] - 7s 1s/step - loss: 0.1031 - acc: 0.9984 - val_loss: 3.7485 - val_acc: 0.0156\n",
      "Epoch 24/30\n",
      "5/5 [==============================] - 6s 1s/step - loss: 0.0788 - acc: 0.9984 - val_loss: 4.0874 - val_acc: 0.0219\n",
      "Epoch 25/30\n",
      "5/5 [==============================] - 5s 1s/step - loss: 0.0673 - acc: 0.9992 - val_loss: 4.2543 - val_acc: 0.0281\n",
      "Epoch 26/30\n",
      "5/5 [==============================] - 6s 1s/step - loss: 0.0577 - acc: 0.9992 - val_loss: 4.4204 - val_acc: 0.0406\n",
      "Epoch 27/30\n",
      "5/5 [==============================] - 6s 1s/step - loss: 0.0494 - acc: 0.9992 - val_loss: 4.6587 - val_acc: 0.0437\n",
      "Epoch 28/30\n",
      "5/5 [==============================] - 5s 1s/step - loss: 0.0994 - acc: 0.9719 - val_loss: 0.9700 - val_acc: 0.5688\n",
      "Epoch 29/30\n",
      "5/5 [==============================] - 5s 1s/step - loss: 0.1674 - acc: 0.9414 - val_loss: 3.4465 - val_acc: 0.0656\n",
      "Epoch 30/30\n",
      "5/5 [==============================] - 5s 1s/step - loss: 0.0468 - acc: 0.9992 - val_loss: 4.1237 - val_acc: 0.0469\n"
     ]
    }
   ],
   "source": [
    "model.compile(optimizer='rmsprop', loss='binary_crossentropy', metrics=['acc'])\n",
    "\n",
    "history = model.fit(X_train, y_train, \n",
    "                    epochs=30,\n",
    "                    batch_size=256,\n",
    "                    validation_split=0.2)"
   ]
  },
  {
   "cell_type": "code",
   "execution_count": 39,
   "metadata": {},
   "outputs": [
    {
     "data": {
      "image/png": "[encoded data removed]",
      "text/plain": [
       "<Figure size 432x288 with 1 Axes>"
      ]
     },
     "metadata": {
      "needs_background": "light"
     },
     "output_type": "display_data"
    }
   ],
   "source": [
    "history_dict = history.history\n",
    "loss = history_dict['loss']\n",
    "val_loss = history_dict['val_loss']\n",
    "\n",
    "epochs = range(1, len(loss) + 1)\n",
    "\n",
    "plt.plot(epochs, loss, 'bo', label='Training loss')\n",
    "plt.plot(epochs, val_loss, 'r', label='Validation loss')\n",
    "plt.title('Training and validation loss')\n",
    "plt.xlabel('Epochs')\n",
    "plt.ylabel('Loss')\n",
    "plt.legend()\n",
    "\n",
    "plt.show()"
   ]
  },
  {
   "cell_type": "code",
   "execution_count": 40,
   "metadata": {},
   "outputs": [
    {
     "data": {
      "image/png": "[encoded data removed]",
      "text/plain": [
       "<Figure size 432x288 with 1 Axes>"
      ]
     },
     "metadata": {
      "needs_background": "light"
     },
     "output_type": "display_data"
    }
   ],
   "source": [
    "history_dict = history.history\n",
    "acc = history_dict['acc']\n",
    "val_acc = history_dict['val_acc']\n",
    "\n",
    "epochs = range(1, len(acc) + 1)\n",
    "\n",
    "plt.plot(epochs, acc, 'bo', label='Training acc')\n",
    "plt.plot(epochs, val_acc, 'r', label='Validation acc')\n",
    "plt.title('Training and validation acc')\n",
    "plt.xlabel('Epochs')\n",
    "plt.ylabel('Accuracy')\n",
    "plt.legend()\n",
    "\n",
    "plt.show()"
   ]
  },
  {
   "cell_type": "markdown",
   "metadata": {},
   "source": [
    "#### 문제점: train set의 크기가 너무 작다\n",
    "해결방안: train set을 충분히 늘리거나, pre-trained embedding vector를 사용"
   ]
  },
  {
   "cell_type": "markdown",
   "metadata": {},
   "source": [
    "## pre-trained embedding을 사용\n",
    "GloVe: https://nlp.stanford.edu/projects/glove <br>\n",
    "다운 받아서 datasets 폴더 안에 압축을 풀고 그 중에서 glove.6B.100d.txt를 사용<br>\n",
    "\n",
    "파일 안의 모양: 단어 + 단어의 100차원 vector 집합으로 이루어져 있음<br>\n",
    "\n",
    "예) the -0.038194 -0.24487 0.72812 -0.39961 0.083172 0.043953 -0.39141 0.3344 -0.57545 0.087459 0.28787 -0.06731 0.30906 -0.26384 -0.13231 -0.20757 0.33395 -0.33848 -0.31743 -0.48336 0.1464 -0.37304 0.34577 0.052041 0.44946 -0.46971 0.02628 -0.54155 -0.15518 -0.14107 -0.039722 0.28277 0.14393 0.23464 -0.31021 0.086173 0.20397 0.52624 0.17164 -0.082378 -0.71787 -0.41531 0.20335 -0.12763 0.41367 0.55187 0.57908 -0.33477 -0.36559 -0.54857 -0.062892 0.26584 0.30205 0.99775 -0.80481 -3.0243 0.01254 -0.36942 2.2167 0.72201 -0.24978 0.92136 0.034514 0.46745 1.1079 -0.19358 -0.074575 0.23353 -0.052062 -0.22044 0.057162 -0.15806 -0.30798 -0.41625 0.37972 0.15006 -0.53212 -0.2055 -1.2526 0.071624 0.70565 0.49744 -0.42063 0.26148 -1.538 -0.30223 -0.073438 -0.28312 0.37104 -0.25217 0.016215 -0.017099 -0.38984 0.87424 -0.72569 -0.51058 -0.52028 -0.1459 0.8278 0.27062\n",
    "\n",
    "한 라인은 하나의 단어와 그 단어의 vector로 이루어져 있으므로, 각 라인에 대해 첫 token을 word로, 나머지 100 token을 vector로 변환하면 됨 "
   ]
  },
  {
   "cell_type": "markdown",
   "metadata": {},
   "source": [
    "### glove를 사용하지 않으면서 좀 더 정교한 모형을 사용하여 학습\n",
    "optimizer를 정교하게 조정하고, regularizer를 추가"
   ]
  },
  {
   "cell_type": "code",
   "execution_count": 43,
   "metadata": {},
   "outputs": [
    {
     "name": "stdout",
     "output_type": "stream",
     "text": [
      "Model: \"sequential_8\"\n",
      "_________________________________________________________________\n",
      " Layer (type)                Output Shape              Param #   \n",
      "=================================================================\n",
      " embedding_8 (Embedding)     (None, None, 32)          320000    \n",
      "                                                                 \n",
      " lstm_1 (LSTM)               (None, 32)                8320      \n",
      "                                                                 \n",
      " dense_8 (Dense)             (None, 1)                 33        \n",
      "                                                                 \n",
      "=================================================================\n",
      "Total params: 328,353\n",
      "Trainable params: 328,353\n",
      "Non-trainable params: 0\n",
      "_________________________________________________________________\n"
     ]
    }
   ],
   "source": [
    "from keras.layers import SimpleRNN, LSTM\n",
    "from keras import regularizers\n",
    "\n",
    "model = Sequential()\n",
    "model.add(Embedding(max_words, 32))\n",
    "#model.add(SimpleRNN(32))\n",
    "model.add(LSTM(32))\n",
    "#model.add(Dense(32, kernel_regularizer=regularizers.l2(0.01)))\n",
    "model.add(Dense(1, activation='sigmoid', kernel_regularizer=regularizers.l2(0.1))) #0.01을 먼저 시도했음\n",
    "\n",
    "model.summary()"
   ]
  },
  {
   "cell_type": "code",
   "execution_count": null,
   "metadata": {},
   "outputs": [],
   "source": []
  }
 ],
 "metadata": {
  "kernelspec": {
   "display_name": "Python 3",
   "language": "python",
   "name": "python3"
  },
  "language_info": {
   "codemirror_mode": {
    "name": "ipython",
    "version": 3
   },
   "file_extension": ".py",
   "mimetype": "text/x-python",
   "name": "python",
   "nbconvert_exporter": "python",
   "pygments_lexer": "ipython3",
   "version": "3.7.4"
  }
 },
 "nbformat": 4,
 "nbformat_minor": 2
}
